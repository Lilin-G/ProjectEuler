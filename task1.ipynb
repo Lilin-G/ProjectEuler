    {
      "cell_type": "markdown",
      "source": [
        "# Task 1: Project Euler, task 3 to 5"
      ],
      "metadata": {
        "id": "e9y3AF_dluLh"
      }
    },
    {
      "cell_type": "markdown",
      "source": [
        "Project Euler #3\n",
        "What is the largest prime factor of the number 600851475143 ?"
      ],
      "metadata": {
        "id": "GzVwluaqc2wG"
      }
    },
    {
      "cell_type": "code",
      "source": [
        "n = 600851475143\n",
        "i = 2\n",
        "while i * i <n:\n",
        "    while n % i == 0:\n",
        "        n = n / i\n",
        "    i = i + 1\n",
        "\n",
        "print (n)"
      ],
      "metadata": {
        "colab": {
          "base_uri": "https://localhost:8080/"
        },
        "id": "YB8n7qA_cZAT",
        "outputId": "c1922817-05ea-4512-c634-63eba8719d55"
      },
      "execution_count": null,
      "outputs": [
        {
          "output_type": "stream",
          "name": "stdout",
          "text": [
            "6857.0\n"
          ]
        }
      ]
    },
    {
      "cell_type": "markdown",
      "source": [
        "Project Euler #4 Find the largest palindrome made from the product of two 3-digit numbers."
      ],
      "metadata": {
        "id": "9ps1Tfb9ebbB"
      }
    },
    {
      "cell_type": "code",
      "source": [
        "n = 0\n",
        "for a in range(999, 100, -1):\n",
        "    for b in range(a, 100, -1):\n",
        "        x = a * b\n",
        "        if x > n:\n",
        "          s = str(a * b)\n",
        "          if s == s[::-1]:\n",
        "              n = a * b\n",
        "print(n)"
      ],
      "metadata": {
        "colab": {
          "base_uri": "https://localhost:8080/"
        },
        "id": "E3IRdmIPedrh",
        "outputId": "43251bb1-6ad4-4215-f676-57ac0fd2f471"
      },
      "execution_count": null,
      "outputs": [
        {
          "output_type": "stream",
          "name": "stdout",
          "text": [
            "906609\n"
          ]
        }
      ]
    },
    {
      "cell_type": "markdown",
      "source": [
        "Project Euler #5 What is the smallest positive number that is evenly divisible by all of the numbers from 1 to 20?"
      ],
      "metadata": {
        "id": "8mVhn8EJfV7h"
      }
    },
    {
      "cell_type": "code",
      "source": [
        "def gcd(x,y): return y and gcd(y, x % y) or x\n",
        "def lcm(x,y): return x * y / gcd(x,y)\n",
        "\n",
        "n = 1\n",
        "for i in range(1, 20):\n",
        "    n = lcm(n, i)\n",
        "print(n)"
      ],
      "metadata": {
        "colab": {
          "base_uri": "https://localhost:8080/"
        },
        "id": "JI6HCklsgG4H",
        "outputId": "f614f5c6-d3d1-4508-a6a2-b8136f639210"
      },
      "execution_count": null,
      "outputs": [
        {
          "output_type": "stream",
          "name": "stdout",
          "text": [
            "232792560.0\n"
          ]
        }
      ]
    }
  ]
}
