{
  "nbformat": 4,
  "nbformat_minor": 0,
  "metadata": {
    "colab": {
      "provenance": [],
      "toc_visible": true,
      "include_colab_link": true
    },
    "kernelspec": {
      "name": "python3",
      "display_name": "Python 3"
    },
    "language_info": {
      "name": "python"
    }
  },
  "cells": [
    {
      "cell_type": "markdown",
      "metadata": {
        "id": "view-in-github",
        "colab_type": "text"
      },
      "source": [
        "<a href=\"https://colab.research.google.com/github/Lilin-G/ProjectEuler/blob/main/task1.ipynb\" target=\"_parent\"><img src=\"https://colab.research.google.com/assets/colab-badge.svg\" alt=\"Open In Colab\"/></a>"
      ]
    },
    {
      "cell_type": "markdown",
      "source": [
        "# Introduction to Python [11 Jan]\n",
        "*   get input\n",
        "*   process\n",
        "*   output result\n",
        "\n"
      ],
      "metadata": {
        "id": "SUb6WFOnr1ZA"
      }
    },
    {
      "cell_type": "code",
      "source": [
        "# get input (comments)\n",
        "name = input(\"Enter name: \")\n",
        "\n",
        "# process\n",
        "name = name.upper()\n",
        "\n",
        "# output result\n",
        "print(name)\n"
      ],
      "metadata": {
        "colab": {
          "base_uri": "https://localhost:8080/"
        },
        "id": "g1T0MpLVrHuP",
        "outputId": "369159db-d981-43b8-fc6e-abc5128c7fb6"
      },
      "execution_count": null,
      "outputs": [
        {
          "output_type": "stream",
          "name": "stdout",
          "text": [
            "Enter name: girl\n",
            "GIRL\n"
          ]
        }
      ]
    },
    {
      "cell_type": "code",
      "source": [
        "# Calculate BMI (body mass index)\n",
        "\n",
        "# get weight\n",
        "weight = int(input(\"Enter weight (kg): \")) # integer\n",
        "\n",
        "# get height\n",
        "height = float(input(\"Enter height (m): \")) # float\n",
        "\n",
        "# compute BMI\n",
        "bmi = weight / (height * height)\n",
        "\n",
        "# output BMI\n",
        "print(bmi)"
      ],
      "metadata": {
        "id": "aZRLVg83sGTy"
      },
      "execution_count": null,
      "outputs": []
    },
    {
      "cell_type": "markdown",
      "source": [
        "Shortcut for multiple line comment - Ctrl /"
      ],
      "metadata": {
        "id": "8gGhmvRH9yE_"
      }
    },
    {
      "cell_type": "code",
      "source": [
        "# Multiples of 3 or 5\n",
        "# Problem 1\n",
        "# If we list all the natural numbers below 10 that are multiples of 3 or 5, we get 3, 5, 6 and 9. \n",
        "# The sum of these multiples is 23.\n",
        "# Find the sum of all the multiples of 3 or 5 below 1000.\n",
        "\n",
        "# process\n",
        "\n",
        "\n",
        "# output\n",
        "\n",
        "\n"
      ],
      "metadata": {
        "id": "UsSJuu3t9DSo"
      },
      "execution_count": null,
      "outputs": []
    },
    {
      "cell_type": "code",
      "source": [
        "9 / 4 # true division\n"
      ],
      "metadata": {
        "colab": {
          "base_uri": "https://localhost:8080/"
        },
        "id": "2PhiY6j9-9g8",
        "outputId": "877db02a-a8d8-4db8-b22a-6b82baf1eb36"
      },
      "execution_count": null,
      "outputs": [
        {
          "output_type": "execute_result",
          "data": {
            "text/plain": [
              "2.25"
            ]
          },
          "metadata": {},
          "execution_count": 9
        }
      ]
    },
    {
      "cell_type": "markdown",
      "source": [
        "Retains quotient only: // (division operator)"
      ],
      "metadata": {
        "id": "MBRs3Azk_WrS"
      }
    },
    {
      "cell_type": "code",
      "source": [
        "9 // 4 # integer division "
      ],
      "metadata": {
        "colab": {
          "base_uri": "https://localhost:8080/"
        },
        "id": "gwRo9DLu_PGG",
        "outputId": "7344aaf8-6abc-4f73-b400-8bdf4549c221"
      },
      "execution_count": null,
      "outputs": [
        {
          "output_type": "execute_result",
          "data": {
            "text/plain": [
              "2"
            ]
          },
          "metadata": {},
          "execution_count": 8
        }
      ]
    },
    {
      "cell_type": "markdown",
      "source": [
        "Power of: **"
      ],
      "metadata": {
        "id": "Xd-3KUjS_hYa"
      }
    },
    {
      "cell_type": "code",
      "source": [
        "3 ** 4"
      ],
      "metadata": {
        "colab": {
          "base_uri": "https://localhost:8080/"
        },
        "id": "zMieghuY_dn1",
        "outputId": "2bd598cd-37da-45c4-e482-6019bf022133"
      },
      "execution_count": null,
      "outputs": [
        {
          "output_type": "execute_result",
          "data": {
            "text/plain": [
              "81"
            ]
          },
          "metadata": {},
          "execution_count": 10
        }
      ]
    },
    {
      "cell_type": "markdown",
      "source": [
        "Retains remainder or none: %"
      ],
      "metadata": {
        "id": "fwyO6rJv_9pz"
      }
    },
    {
      "cell_type": "code",
      "source": [
        "8 % 3 # modulus"
      ],
      "metadata": {
        "colab": {
          "base_uri": "https://localhost:8080/"
        },
        "id": "QmEOiyDG_nsu",
        "outputId": "e395b56b-fe13-4508-f663-4baf17e171ae"
      },
      "execution_count": null,
      "outputs": [
        {
          "output_type": "execute_result",
          "data": {
            "text/plain": [
              "2"
            ]
          },
          "metadata": {},
          "execution_count": 11
        }
      ]
    },
    {
      "cell_type": "code",
      "source": [
        "8 % 4 "
      ],
      "metadata": {
        "colab": {
          "base_uri": "https://localhost:8080/"
        },
        "id": "fP2uwnTU_za3",
        "outputId": "feb8e56f-f682-4a07-f16a-1f528edbf13c"
      },
      "execution_count": null,
      "outputs": [
        {
          "output_type": "execute_result",
          "data": {
            "text/plain": [
              "0"
            ]
          },
          "metadata": {},
          "execution_count": 12
        }
      ]
    },
    {
      "cell_type": "markdown",
      "source": [
        "Binary: =="
      ],
      "metadata": {
        "id": "nfVPkYMnAQ2T"
      }
    },
    {
      "cell_type": "code",
      "source": [
        "8 % 4 == 0 # boolean"
      ],
      "metadata": {
        "colab": {
          "base_uri": "https://localhost:8080/"
        },
        "id": "aWROqYdyACEa",
        "outputId": "05779d3a-5517-4f0f-fcb0-32dd5131db79"
      },
      "execution_count": null,
      "outputs": [
        {
          "output_type": "execute_result",
          "data": {
            "text/plain": [
              "True"
            ]
          },
          "metadata": {},
          "execution_count": 14
        }
      ]
    },
    {
      "cell_type": "code",
      "source": [
        "8 % 3 == 0"
      ],
      "metadata": {
        "colab": {
          "base_uri": "https://localhost:8080/"
        },
        "id": "amD8Cv6jAYMJ",
        "outputId": "dc61bf92-a498-4588-fc57-dd3683acb3fa"
      },
      "execution_count": null,
      "outputs": [
        {
          "output_type": "execute_result",
          "data": {
            "text/plain": [
              "False"
            ]
          },
          "metadata": {},
          "execution_count": 16
        }
      ]
    },
    {
      "cell_type": "markdown",
      "source": [
        "Conditional:\n",
        "else is optional in this context"
      ],
      "metadata": {
        "id": "6QW0VeYiA6dD"
      }
    },
    {
      "cell_type": "code",
      "source": [
        "if 9 % 3 == 0: # 9 is multiple of 3\n",
        "  print(\"multiple\")\n",
        "else:\n",
        "  print(\"not divisible\")"
      ],
      "metadata": {
        "colab": {
          "base_uri": "https://localhost:8080/"
        },
        "id": "UTbx3wR4AsfH",
        "outputId": "248a6add-9d42-4134-f377-19a572db8d92"
      },
      "execution_count": null,
      "outputs": [
        {
          "output_type": "stream",
          "name": "stdout",
          "text": [
            "multiple\n"
          ]
        }
      ]
    },
    {
      "cell_type": "code",
      "source": [
        "if 8 % 3 == 0: # 9 is multiple of 3\n",
        "  print(\"multiple\")\n",
        "else:\n",
        "  print(\"not divisible\")"
      ],
      "metadata": {
        "colab": {
          "base_uri": "https://localhost:8080/"
        },
        "id": "LTthTO8zAyHx",
        "outputId": "2af75cac-f19e-489a-c0af-c48279224d3e"
      },
      "execution_count": null,
      "outputs": [
        {
          "output_type": "stream",
          "name": "stdout",
          "text": [
            "not divisible\n"
          ]
        }
      ]
    },
    {
      "cell_type": "code",
      "source": [
        "num = 1\n",
        "\n",
        "if num % 3 == 0: # divisible\n",
        "  print(\"divisible\")\n",
        "else:\n",
        "  print(\"not divisible\")"
      ],
      "metadata": {
        "colab": {
          "base_uri": "https://localhost:8080/"
        },
        "id": "gBRdYWEeClp9",
        "outputId": "d0be7600-89f6-41c5-f7aa-7f3fecfc9b63"
      },
      "execution_count": null,
      "outputs": [
        {
          "output_type": "stream",
          "name": "stdout",
          "text": [
            "not divisible\n"
          ]
        }
      ]
    },
    {
      "cell_type": "code",
      "source": [
        "num = 6\n",
        "\n",
        "if num % 3 == 0: # divisible\n",
        "  print(\"divisible\")\n",
        "else:\n",
        "  print(\"not divisible\")"
      ],
      "metadata": {
        "colab": {
          "base_uri": "https://localhost:8080/"
        },
        "id": "0FNiAwFHC2WM",
        "outputId": "ba6e8553-8c32-4ee0-b0d4-3d690a3323a6"
      },
      "execution_count": null,
      "outputs": [
        {
          "output_type": "stream",
          "name": "stdout",
          "text": [
            "divisible\n"
          ]
        }
      ]
    },
    {
      "cell_type": "markdown",
      "source": [
        "Writing a loop\n",
        "i: variable\n",
        "(1, 6)\n",
        "1: inclusive\n",
        "6: one less than 6, excluding 6"
      ],
      "metadata": {
        "id": "zeFzRIkuC9D4"
      }
    },
    {
      "cell_type": "code",
      "source": [
        "for i in range(5):\n",
        "  print(i)"
      ],
      "metadata": {
        "colab": {
          "base_uri": "https://localhost:8080/"
        },
        "id": "gYE0j478C60D",
        "outputId": "3b5f3c2d-b117-44c1-9545-06b9c84aafeb"
      },
      "execution_count": null,
      "outputs": [
        {
          "output_type": "stream",
          "name": "stdout",
          "text": [
            "0\n",
            "1\n",
            "2\n",
            "3\n",
            "4\n"
          ]
        }
      ]
    },
    {
      "cell_type": "code",
      "source": [
        "for i in range(1, 6):\n",
        "  print(i)"
      ],
      "metadata": {
        "colab": {
          "base_uri": "https://localhost:8080/"
        },
        "id": "wLdOoB3dDdwk",
        "outputId": "8aa49da9-d3d9-443a-c4b9-84c9a546f209"
      },
      "execution_count": null,
      "outputs": [
        {
          "output_type": "stream",
          "name": "stdout",
          "text": [
            "1\n",
            "2\n",
            "3\n",
            "4\n",
            "5\n"
          ]
        }
      ]
    },
    {
      "cell_type": "code",
      "source": [
        "for i in range(1, 6, 2):\n",
        "  print(i)"
      ],
      "metadata": {
        "colab": {
          "base_uri": "https://localhost:8080/"
        },
        "id": "Xz0PeipjFGL8",
        "outputId": "3ad77f2d-4d9c-4412-8cb7-cef5fa4290eb"
      },
      "execution_count": null,
      "outputs": [
        {
          "output_type": "stream",
          "name": "stdout",
          "text": [
            "1\n",
            "3\n",
            "5\n"
          ]
        }
      ]
    },
    {
      "cell_type": "code",
      "source": [
        "for i in range(1, 10):\n",
        "  # print(i)\n",
        "  if i % 3 == 0: # divisble because zero remainder\n",
        "    print(\"multiple of 3\")\n",
        "  else:\n",
        "    print(\"not multiple of 3\")"
      ],
      "metadata": {
        "colab": {
          "base_uri": "https://localhost:8080/"
        },
        "id": "pHWoUp_UFTpO",
        "outputId": "89d41e23-748b-43e4-b2a7-d5b18b43c326"
      },
      "execution_count": null,
      "outputs": [
        {
          "output_type": "stream",
          "name": "stdout",
          "text": [
            "not multiple of 3\n",
            "not multiple of 3\n",
            "multiple of 3\n",
            "not multiple of 3\n",
            "not multiple of 3\n",
            "multiple of 3\n",
            "not multiple of 3\n",
            "not multiple of 3\n",
            "multiple of 3\n"
          ]
        }
      ]
    },
    {
      "cell_type": "code",
      "source": [
        "total = 0\n",
        "\n",
        "for i in range(1, 10):\n",
        "  # print(i)\n",
        "  if i % 3 == 0: # divisble because zero remainder\n",
        "    total = total + i # assignnment operator\n",
        "\n",
        "print(total)"
      ],
      "metadata": {
        "colab": {
          "base_uri": "https://localhost:8080/"
        },
        "id": "ySiX23GTFrLu",
        "outputId": "19042dd6-8fa5-46d0-c90e-b278075d7eb1"
      },
      "execution_count": null,
      "outputs": [
        {
          "output_type": "stream",
          "name": "stdout",
          "text": [
            "18\n"
          ]
        }
      ]
    },
    {
      "cell_type": "code",
      "source": [
        "total = 0\n",
        "\n",
        "for i in range(1, 10):\n",
        "  # print(i)\n",
        "  if (i % 3 == 0) or (i % 5 == 0): # divisble because zero remainder\n",
        "    total = total + i # assignnment operator\n",
        "\n",
        "print(total)"
      ],
      "metadata": {
        "colab": {
          "base_uri": "https://localhost:8080/"
        },
        "id": "tJP4VqEUHa3s",
        "outputId": "846bba42-bb9e-4b5e-c162-9c5a9fcbfc82"
      },
      "execution_count": null,
      "outputs": [
        {
          "output_type": "stream",
          "name": "stdout",
          "text": [
            "23\n"
          ]
        }
      ]
    },
    {
      "cell_type": "markdown",
      "source": [
        "# Task 1: Project Euler, task 3 to 5"
      ],
      "metadata": {
        "id": "e9y3AF_dluLh"
      }
    },
    {
      "cell_type": "markdown",
      "source": [
        "Project Euler #3\n",
        "What is the largest prime factor of the number 600851475143 ?"
      ],
      "metadata": {
        "id": "GzVwluaqc2wG"
      }
    },
    {
      "cell_type": "code",
      "source": [
        "n = 600851475143\n",
        "i = 2\n",
        "while i * i <n:\n",
        "    while n % i == 0:\n",
        "        n = n / i\n",
        "    i = i + 1\n",
        "\n",
        "print (n)"
      ],
      "metadata": {
        "colab": {
          "base_uri": "https://localhost:8080/"
        },
        "id": "YB8n7qA_cZAT",
        "outputId": "c1922817-05ea-4512-c634-63eba8719d55"
      },
      "execution_count": null,
      "outputs": [
        {
          "output_type": "stream",
          "name": "stdout",
          "text": [
            "6857.0\n"
          ]
        }
      ]
    },
    {
      "cell_type": "markdown",
      "source": [
        "Project Euler #4 Find the largest palindrome made from the product of two 3-digit numbers."
      ],
      "metadata": {
        "id": "9ps1Tfb9ebbB"
      }
    },
    {
      "cell_type": "code",
      "source": [
        "n = 0\n",
        "for a in range(999, 100, -1):\n",
        "    for b in range(a, 100, -1):\n",
        "        x = a * b\n",
        "        if x > n:\n",
        "          s = str(a * b)\n",
        "          if s == s[::-1]:\n",
        "              n = a * b\n",
        "print(n)"
      ],
      "metadata": {
        "colab": {
          "base_uri": "https://localhost:8080/"
        },
        "id": "E3IRdmIPedrh",
        "outputId": "43251bb1-6ad4-4215-f676-57ac0fd2f471"
      },
      "execution_count": null,
      "outputs": [
        {
          "output_type": "stream",
          "name": "stdout",
          "text": [
            "906609\n"
          ]
        }
      ]
    },
    {
      "cell_type": "markdown",
      "source": [
        "Project Euler #5 What is the smallest positive number that is evenly divisible by all of the numbers from 1 to 20?"
      ],
      "metadata": {
        "id": "8mVhn8EJfV7h"
      }
    },
    {
      "cell_type": "code",
      "source": [
        "def gcd(x,y): return y and gcd(y, x % y) or x\n",
        "def lcm(x,y): return x * y / gcd(x,y)\n",
        "\n",
        "n = 1\n",
        "for i in range(1, 20):\n",
        "    n = lcm(n, i)\n",
        "print(n)"
      ],
      "metadata": {
        "colab": {
          "base_uri": "https://localhost:8080/"
        },
        "id": "JI6HCklsgG4H",
        "outputId": "f614f5c6-d3d1-4508-a6a2-b8136f639210"
      },
      "execution_count": null,
      "outputs": [
        {
          "output_type": "stream",
          "name": "stdout",
          "text": [
            "232792560.0\n"
          ]
        }
      ]
    }
  ]
}